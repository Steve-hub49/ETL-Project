{
 "cells": [
  {
   "cell_type": "code",
   "execution_count": 1,
   "metadata": {},
   "outputs": [],
   "source": [
    "from amazon import amazon_top_100_df\n",
    "from goodreads import book_review_counts    #, get_json\n",
    "from isbntools_local import isbn_from_row"
   ]
  },
  {
   "cell_type": "code",
   "execution_count": 2,
   "metadata": {
    "scrolled": true
   },
   "outputs": [],
   "source": [
    "# add isbn's (from isbntools library, which uses google books) to amazon data\n",
    "isbns = [isbn_from_row(current_row) for index, current_row in amazon_top_100_df.iterrows()]\n",
    "amazon_top_100_df['ISBN'] = isbns "
   ]
  },
  {
   "cell_type": "code",
   "execution_count": 3,
   "metadata": {},
   "outputs": [],
   "source": [
    "# retrieve goodreads review data for each book  \n",
    "goodreads_reviews = [book_review_counts(current_row['ISBN']) for index, current_row in amazon_top_100_df.iterrows()]"
   ]
  },
  {
   "cell_type": "code",
   "execution_count": 4,
   "metadata": {},
   "outputs": [],
   "source": [
    "# add goodreads ratings to amazon data\n",
    "goodreads_average_ratings = [book['average_rating'] for book in goodreads_reviews]\n",
    "goodreads_ratings_counts = [book['ratings_count'] for book in goodreads_reviews]\n",
    "amazon_top_100_df['GR_AVERAGE_RATING'] = goodreads_average_ratings \n",
    "amazon_top_100_df['GR_RATINGS_COUNT'] = goodreads_ratings_counts"
   ]
  },
  {
   "cell_type": "code",
   "execution_count": 9,
   "metadata": {},
   "outputs": [
    {
     "name": "stdout",
     "output_type": "stream",
     "text": [
      "<bound method NDFrame.head of     AMZN_RANK                                              TITLE  \\\n",
      "0           1                                           Becoming   \n",
      "1           2                               Girl, Wash Your Face   \n",
      "2           3                                   The Wonky Donkey   \n",
      "3           4                                      Fire and Fury   \n",
      "4           5                                               Fear   \n",
      "..        ...                                                ...   \n",
      "94         95                                  Gmorning, Gnight!   \n",
      "95         96                                  Rich Dad Poor Dad   \n",
      "96         97                                      Make Your Bed   \n",
      "97         98         Harry Potter Paperback Box Set (Books 1-7)   \n",
      "98         99  Xanathar's Guide to Everything (Dungeons & Dra...   \n",
      "\n",
      "                AUTHOR  AMZN_RATING  AMZN_REVIEW_COUNT           ISBN  \\\n",
      "0       Michelle Obama          4.9              13347  9781524763138   \n",
      "1        Rachel Hollis          4.6              10521  9781400201655   \n",
      "2          Craig Smith          4.7               5503  9781869439262   \n",
      "3        Michael Wolff          4.2               9931  9781250158062   \n",
      "4         Bob Woodward          4.5               3220  9781501175510   \n",
      "..                 ...          ...                ...            ...   \n",
      "94  Lin-Manuel Miranda          4.7                285  9781984854278   \n",
      "95  Robert T. Kiyosaki          4.5               8611  9781543626612   \n",
      "96  William H. McRaven          4.7               2582  9781455570249   \n",
      "97       J. K. Rowling          4.7               7742  9780545162074   \n",
      "98    Wizards RPG Team          4.5                743  9780786966110   \n",
      "\n",
      "   GR_AVERAGE_RATING  GR_RATINGS_COUNT  \n",
      "0               4.53              1315  \n",
      "1               3.69             10145  \n",
      "2               4.40              3020  \n",
      "3               3.44             48458  \n",
      "4               3.85             43358  \n",
      "..               ...               ...  \n",
      "94              4.33              2657  \n",
      "95              4.08                12  \n",
      "96              3.99              3197  \n",
      "97              4.73              5653  \n",
      "98              4.50               969  \n",
      "\n",
      "[99 rows x 8 columns]>\n"
     ]
    }
   ],
   "source": [
    "print(amazon_top_100_df.head)"
   ]
  },
  {
   "cell_type": "code",
   "execution_count": 7,
   "metadata": {},
   "outputs": [],
   "source": [
    "# TODO: Consider adding logic to compare goodreads ISBN with ISBN from ISBNtools (later effort; to confirm)"
   ]
  },
  {
   "cell_type": "code",
   "execution_count": null,
   "metadata": {},
   "outputs": [],
   "source": []
  }
 ],
 "metadata": {
  "kernelspec": {
   "display_name": "Python 3",
   "language": "python",
   "name": "python3"
  },
  "language_info": {
   "codemirror_mode": {
    "name": "ipython",
    "version": 3
   },
   "file_extension": ".py",
   "mimetype": "text/x-python",
   "name": "python",
   "nbconvert_exporter": "python",
   "pygments_lexer": "ipython3",
   "version": "3.6.10"
  }
 },
 "nbformat": 4,
 "nbformat_minor": 2
}
