{
 "cells": [
  {
   "cell_type": "code",
   "execution_count": 1,
   "metadata": {},
   "outputs": [],
   "source": [
    "from amazon import amazon_top_100_df\n",
    "from goodreads import book_review_counts    #, get_json\n",
    "from isbntools_local import isbn_from_row"
   ]
  },
  {
   "cell_type": "code",
   "execution_count": 2,
   "metadata": {
    "scrolled": true
   },
   "outputs": [],
   "source": [
    "# add isbn's (from isbntools library, which uses google books) to amazon data\n",
    "isbns = [isbn_from_row(current_row) for index, current_row in amazon_top_100_df.iterrows()]\n",
    "amazon_top_100_df['ISBN'] = isbns "
   ]
  },
  {
   "cell_type": "code",
   "execution_count": 3,
   "metadata": {},
   "outputs": [],
   "source": [
    "# retrieve goodreads review data for each book  \n",
    "goodreads_reviews = [book_review_counts(current_row[\"ISBN\"]) for index, current_row in amazon_top_100_df.iterrows()]"
   ]
  },
  {
   "cell_type": "code",
   "execution_count": 4,
   "metadata": {},
   "outputs": [
    {
     "name": "stdout",
     "output_type": "stream",
     "text": [
      "{'average_rating': '4.53', 'ratings_count': 1298}\n"
     ]
    }
   ],
   "source": [
    "first_review = goodreads_reviews[0]\n",
    "print(first_review)"
   ]
  },
  {
   "cell_type": "code",
   "execution_count": 5,
   "metadata": {},
   "outputs": [],
   "source": [
    "# This does not work! amazon_top_100_df['ISBN2', 'ISBN3'] = [isbns, isbns]... consider running separately, see Kourt's Slack msg\n",
    "# 1. use a list comprehension to create a list called goodreads_average_ratings containing the average_rating values\n",
    "# 2. use a list comprehension to create a list called goodreads_ratings_count containing the ratings_count values\n",
    "# 3. add average_rating to the dataframe (see cell 2, second line of code) (make the column name consistent with other amazon column names)\n",
    "# 4. add ratings_count to the dataframe (see cell 2, second line of code)...GR_RATINGS_COUNT as a hint"
   ]
  },
  {
   "cell_type": "code",
   "execution_count": 6,
   "metadata": {},
   "outputs": [
    {
     "name": "stdout",
     "output_type": "stream",
     "text": [
      "Index(['AMZN_RANK', 'TITLE', 'AUTHOR', 'AMZN_RATING', 'AMZN_REVIEW_COUNT',\n",
      "       'ISBN'],\n",
      "      dtype='object')\n"
     ]
    }
   ],
   "source": [
    "print(amazon_top_100_df.columns)"
   ]
  },
  {
   "cell_type": "code",
   "execution_count": 7,
   "metadata": {},
   "outputs": [],
   "source": [
    "# TODO: Consider adding logic to compare goodreads ISBN with ISBN from ISBNtools (later effort; to confirm)"
   ]
  },
  {
   "cell_type": "code",
   "execution_count": null,
   "metadata": {},
   "outputs": [],
   "source": []
  }
 ],
 "metadata": {
  "kernelspec": {
   "display_name": "Python 3",
   "language": "python",
   "name": "python3"
  },
  "language_info": {
   "codemirror_mode": {
    "name": "ipython",
    "version": 3
   },
   "file_extension": ".py",
   "mimetype": "text/x-python",
   "name": "python",
   "nbconvert_exporter": "python",
   "pygments_lexer": "ipython3",
   "version": "3.6.10"
  }
 },
 "nbformat": 4,
 "nbformat_minor": 2
}
