{
 "cells": [
  {
   "cell_type": "code",
   "execution_count": null,
   "metadata": {},
   "outputs": [],
   "source": [
    "from amazon import amazon_top_100_df\n",
    "from goodreads import book_review_counts    #, get_json\n",
    "from isbntools_local import isbn_from_row"
   ]
  },
  {
   "cell_type": "code",
   "execution_count": null,
   "metadata": {
    "scrolled": true
   },
   "outputs": [],
   "source": [
    "# add isbn's (from isbntools library, which uses google books) to amazon data\n",
    "isbns = [isbn_from_row(current_row) for index, current_row in amazon_top_100_df.iterrows()]\n",
    "amazon_top_100_df['ISBN'] = isbns "
   ]
  },
  {
   "cell_type": "code",
   "execution_count": null,
   "metadata": {},
   "outputs": [],
   "source": [
    "# retrieve goodreads review data for each book  \n",
    "goodreads_reviews = [book_review_counts(current_row['ISBN']) for index, current_row in amazon_top_100_df.iterrows()]"
   ]
  },
  {
   "cell_type": "code",
   "execution_count": null,
   "metadata": {},
   "outputs": [],
   "source": [
    "# add goodreads ratings to amazon data\n",
    "goodreads_average_ratings = [book['average_rating'] for book in goodreads_reviews]\n",
    "goodreads_ratings_counts = [book['ratings_count'] for book in goodreads_reviews]\n",
    "amazon_top_100_df['GR_AVERAGE_RATING'] = goodreads_average_ratings \n",
    "amazon_top_100_df['GR_RATINGS_COUNT'] = goodreads_ratings_counts"
   ]
  },
  {
   "cell_type": "code",
   "execution_count": null,
   "metadata": {},
   "outputs": [],
   "source": [
    "print(amazon_top_100_df.head)"
   ]
  },
  {
   "cell_type": "code",
   "execution_count": null,
   "metadata": {},
   "outputs": [],
   "source": [
    "# TODO: load / save dataframe to postgresql (start with class notes and HW before google; things I've already done)"
   ]
  },
  {
   "cell_type": "code",
   "execution_count": null,
   "metadata": {},
   "outputs": [],
   "source": [
    "# TODO: Consider adding logic to compare goodreads ISBN with ISBN from ISBNtools (later effort; to confirm)"
   ]
  },
  {
   "cell_type": "code",
   "execution_count": null,
   "metadata": {},
   "outputs": [],
   "source": []
  }
 ],
 "metadata": {
  "kernelspec": {
   "display_name": "Python 3",
   "language": "python",
   "name": "python3"
  },
  "language_info": {
   "codemirror_mode": {
    "name": "ipython",
    "version": 3
   },
   "file_extension": ".py",
   "mimetype": "text/x-python",
   "name": "python",
   "nbconvert_exporter": "python",
   "pygments_lexer": "ipython3",
   "version": "3.6.10"
  }
 },
 "nbformat": 4,
 "nbformat_minor": 2
}
