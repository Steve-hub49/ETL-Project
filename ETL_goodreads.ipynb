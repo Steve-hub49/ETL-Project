{
 "cells": [
  {
   "cell_type": "code",
   "execution_count": 1,
   "metadata": {},
   "outputs": [],
   "source": [
    "from amazon import amazon_top_100_df\n",
    "from goodreads import book_review_counts    #, get_json\n",
    "from isbntools_local import isbn_from_row"
   ]
  },
  {
   "cell_type": "code",
   "execution_count": 2,
   "metadata": {
    "scrolled": true
   },
   "outputs": [],
   "source": [
    "# DONE AND DELETE: remove unwanted columns from amazon data\n",
    "# DONE AND DELETE: see .xls file\n",
    "# DONE: add isbn's (from isbntools library, which uses google books) to amazon data\n",
    "isbns = [isbn_from_row(current_row) for index, current_row in amazon_top_100_df.iterrows()]\n",
    "amazon_top_100_df['ISBN'] = isbns "
   ]
  },
  {
   "cell_type": "code",
   "execution_count": 3,
   "metadata": {
    "scrolled": false
   },
   "outputs": [
    {
     "name": "stdout",
     "output_type": "stream",
     "text": [
      "Index(['AMZN_RANK', 'TITLE', 'AUTHOR', 'AMZN_RATING', 'AMZN_REVIEW_COUNT',\n",
      "       'TYPE', 'AMZN_PRICE', 'ISBN'],\n",
      "      dtype='object')\n"
     ]
    }
   ],
   "source": [
    "print(amazon_top_100_df.columns)"
   ]
  },
  {
   "cell_type": "code",
   "execution_count": 4,
   "metadata": {},
   "outputs": [],
   "source": [
    "# DONE: update dataframe to no longer include TYPE and AMZN_PRICE"
   ]
  },
  {
   "cell_type": "code",
   "execution_count": 5,
   "metadata": {},
   "outputs": [],
   "source": [
    "rslt_df = amazon_top_100_df.drop(['TYPE', 'AMZN_PRICE'], axis = 1)"
   ]
  },
  {
   "cell_type": "code",
   "execution_count": 6,
   "metadata": {},
   "outputs": [
    {
     "data": {
      "text/html": [
       "<div>\n",
       "<style scoped>\n",
       "    .dataframe tbody tr th:only-of-type {\n",
       "        vertical-align: middle;\n",
       "    }\n",
       "\n",
       "    .dataframe tbody tr th {\n",
       "        vertical-align: top;\n",
       "    }\n",
       "\n",
       "    .dataframe thead th {\n",
       "        text-align: right;\n",
       "    }\n",
       "</style>\n",
       "<table border=\"1\" class=\"dataframe\">\n",
       "  <thead>\n",
       "    <tr style=\"text-align: right;\">\n",
       "      <th></th>\n",
       "      <th>AMZN_RANK</th>\n",
       "      <th>TITLE</th>\n",
       "      <th>AUTHOR</th>\n",
       "      <th>AMZN_RATING</th>\n",
       "      <th>AMZN_REVIEW_COUNT</th>\n",
       "      <th>ISBN</th>\n",
       "    </tr>\n",
       "  </thead>\n",
       "  <tbody>\n",
       "    <tr>\n",
       "      <th>0</th>\n",
       "      <td>1</td>\n",
       "      <td>Becoming</td>\n",
       "      <td>Michelle Obama</td>\n",
       "      <td>4.9</td>\n",
       "      <td>13347</td>\n",
       "      <td>9781524763138</td>\n",
       "    </tr>\n",
       "    <tr>\n",
       "      <th>1</th>\n",
       "      <td>2</td>\n",
       "      <td>Girl, Wash Your Face</td>\n",
       "      <td>Rachel Hollis</td>\n",
       "      <td>4.6</td>\n",
       "      <td>10521</td>\n",
       "      <td>9781400201655</td>\n",
       "    </tr>\n",
       "    <tr>\n",
       "      <th>2</th>\n",
       "      <td>3</td>\n",
       "      <td>The Wonky Donkey</td>\n",
       "      <td>Craig Smith</td>\n",
       "      <td>4.7</td>\n",
       "      <td>5503</td>\n",
       "      <td>9781869439262</td>\n",
       "    </tr>\n",
       "    <tr>\n",
       "      <th>3</th>\n",
       "      <td>4</td>\n",
       "      <td>Fire and Fury</td>\n",
       "      <td>Michael Wolff</td>\n",
       "      <td>4.2</td>\n",
       "      <td>9931</td>\n",
       "      <td>9781250158062</td>\n",
       "    </tr>\n",
       "    <tr>\n",
       "      <th>4</th>\n",
       "      <td>5</td>\n",
       "      <td>Fear</td>\n",
       "      <td>Bob Woodward</td>\n",
       "      <td>4.5</td>\n",
       "      <td>3220</td>\n",
       "      <td>9781501175510</td>\n",
       "    </tr>\n",
       "    <tr>\n",
       "      <th>...</th>\n",
       "      <td>...</td>\n",
       "      <td>...</td>\n",
       "      <td>...</td>\n",
       "      <td>...</td>\n",
       "      <td>...</td>\n",
       "      <td>...</td>\n",
       "    </tr>\n",
       "    <tr>\n",
       "      <th>94</th>\n",
       "      <td>95</td>\n",
       "      <td>Gmorning, Gnight!</td>\n",
       "      <td>Lin-Manuel Miranda</td>\n",
       "      <td>4.7</td>\n",
       "      <td>285</td>\n",
       "      <td>9781984854278</td>\n",
       "    </tr>\n",
       "    <tr>\n",
       "      <th>95</th>\n",
       "      <td>96</td>\n",
       "      <td>Rich Dad Poor Dad</td>\n",
       "      <td>Robert T. Kiyosaki</td>\n",
       "      <td>4.5</td>\n",
       "      <td>8611</td>\n",
       "      <td>9781543626612</td>\n",
       "    </tr>\n",
       "    <tr>\n",
       "      <th>96</th>\n",
       "      <td>97</td>\n",
       "      <td>Make Your Bed</td>\n",
       "      <td>William H. McRaven</td>\n",
       "      <td>4.7</td>\n",
       "      <td>2582</td>\n",
       "      <td>9781455570249</td>\n",
       "    </tr>\n",
       "    <tr>\n",
       "      <th>97</th>\n",
       "      <td>98</td>\n",
       "      <td>Harry Potter Paperback Box Set (Books 1-7)</td>\n",
       "      <td>J. K. Rowling</td>\n",
       "      <td>4.7</td>\n",
       "      <td>7742</td>\n",
       "      <td>9780545162074</td>\n",
       "    </tr>\n",
       "    <tr>\n",
       "      <th>98</th>\n",
       "      <td>99</td>\n",
       "      <td>Xanathar's Guide to Everything (Dungeons &amp; Dra...</td>\n",
       "      <td>Wizards RPG Team</td>\n",
       "      <td>4.5</td>\n",
       "      <td>743</td>\n",
       "      <td>9780786966110</td>\n",
       "    </tr>\n",
       "  </tbody>\n",
       "</table>\n",
       "<p>99 rows × 6 columns</p>\n",
       "</div>"
      ],
      "text/plain": [
       "    AMZN_RANK                                              TITLE  \\\n",
       "0           1                                           Becoming   \n",
       "1           2                               Girl, Wash Your Face   \n",
       "2           3                                   The Wonky Donkey   \n",
       "3           4                                      Fire and Fury   \n",
       "4           5                                               Fear   \n",
       "..        ...                                                ...   \n",
       "94         95                                  Gmorning, Gnight!   \n",
       "95         96                                  Rich Dad Poor Dad   \n",
       "96         97                                      Make Your Bed   \n",
       "97         98         Harry Potter Paperback Box Set (Books 1-7)   \n",
       "98         99  Xanathar's Guide to Everything (Dungeons & Dra...   \n",
       "\n",
       "                AUTHOR  AMZN_RATING  AMZN_REVIEW_COUNT           ISBN  \n",
       "0       Michelle Obama          4.9              13347  9781524763138  \n",
       "1        Rachel Hollis          4.6              10521  9781400201655  \n",
       "2          Craig Smith          4.7               5503  9781869439262  \n",
       "3        Michael Wolff          4.2               9931  9781250158062  \n",
       "4         Bob Woodward          4.5               3220  9781501175510  \n",
       "..                 ...          ...                ...            ...  \n",
       "94  Lin-Manuel Miranda          4.7                285  9781984854278  \n",
       "95  Robert T. Kiyosaki          4.5               8611  9781543626612  \n",
       "96  William H. McRaven          4.7               2582  9781455570249  \n",
       "97       J. K. Rowling          4.7               7742  9780545162074  \n",
       "98    Wizards RPG Team          4.5                743  9780786966110  \n",
       "\n",
       "[99 rows x 6 columns]"
      ]
     },
     "execution_count": 6,
     "metadata": {},
     "output_type": "execute_result"
    }
   ],
   "source": [
    "rslt_df"
   ]
  },
  {
   "cell_type": "code",
   "execution_count": 7,
   "metadata": {},
   "outputs": [
    {
     "name": "stdout",
     "output_type": "stream",
     "text": [
      "Index(['AMZN_RANK', 'TITLE', 'AUTHOR', 'AMZN_RATING', 'AMZN_REVIEW_COUNT',\n",
      "       'ISBN'],\n",
      "      dtype='object')\n"
     ]
    }
   ],
   "source": [
    "print(rslt_df.columns)"
   ]
  },
  {
   "cell_type": "code",
   "execution_count": 8,
   "metadata": {},
   "outputs": [],
   "source": [
    "# DONE: retrieve goodreads review data for each book  \n",
    "goodreads_reviews = [book_review_counts(current_row[\"ISBN\"]) for index, current_row in amazon_top_100_df.iterrows()]"
   ]
  },
  {
   "cell_type": "code",
   "execution_count": 9,
   "metadata": {},
   "outputs": [],
   "source": [
    "# DONE: print(goodreads_reviews)"
   ]
  },
  {
   "cell_type": "code",
   "execution_count": 10,
   "metadata": {},
   "outputs": [],
   "source": [
    "# DONE: Which items to utilize, then convert to dataframe... add to dataframe: amazon_top_100_df['ISBN'] = isbns\n",
    "# DONE: Utilize average_rating and ratings count\n",
    "# Kourt: I have a list of dictionaries and the data... columns are dictionary items... turn each row into a dataframe...\n",
    "# might need a few list comprehensions\n"
   ]
  },
  {
   "cell_type": "code",
   "execution_count": 11,
   "metadata": {},
   "outputs": [],
   "source": [
    "# DONE AND DELETE: Also, as much as it's good to keep the screen clean, it would be reasonable to have print(amazon_top_100_df.columns)\n",
    "# DONE AND DELETE: just before you start working with Goodreads. It is only going to print out a fairly small amount of information.\n",
    "# DONE AND DELETE: Remember that the best way to understand your code is to make small experiments"
   ]
  },
  {
   "cell_type": "code",
   "execution_count": 12,
   "metadata": {},
   "outputs": [],
   "source": [
    "# TODO: Consider adding logic to compare goodreads ISBN with ISBN from ISBNtools (later effort; to confirm)"
   ]
  },
  {
   "cell_type": "code",
   "execution_count": 13,
   "metadata": {},
   "outputs": [],
   "source": [
    "first_review = goodreads_reviews[0]\n",
    "# first review: {'id': 54194135, 'isbn': '1524763136', 'isbn13': '9781524763138', 'ratings_count': 1229, 'reviews_count': 2353, 'text_reviews_count': 45, 'work_ratings_count': 602457, 'work_reviews_count': 1377473, 'work_text_reviews_count': 51384, 'average_rating': '4.53'}"
   ]
  },
  {
   "cell_type": "code",
   "execution_count": 14,
   "metadata": {},
   "outputs": [],
   "source": [
    "# TODO: Save finalized data to database"
   ]
  },
  {
   "cell_type": "code",
   "execution_count": null,
   "metadata": {},
   "outputs": [],
   "source": []
  }
 ],
 "metadata": {
  "kernelspec": {
   "display_name": "Python 3",
   "language": "python",
   "name": "python3"
  },
  "language_info": {
   "codemirror_mode": {
    "name": "ipython",
    "version": 3
   },
   "file_extension": ".py",
   "mimetype": "text/x-python",
   "name": "python",
   "nbconvert_exporter": "python",
   "pygments_lexer": "ipython3",
   "version": "3.6.10"
  }
 },
 "nbformat": 4,
 "nbformat_minor": 2
}
