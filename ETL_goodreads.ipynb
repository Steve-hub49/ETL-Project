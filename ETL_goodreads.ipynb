{
 "cells": [
  {
   "cell_type": "code",
   "execution_count": 1,
   "metadata": {},
   "outputs": [],
   "source": [
    "from amazon import amazon_top_100_df\n",
    "from goodreads import book_review_counts    #, get_json\n",
    "from isbntools_local import isbn_from_row"
   ]
  },
  {
   "cell_type": "code",
   "execution_count": 2,
   "metadata": {
    "scrolled": true
   },
   "outputs": [],
   "source": [
    "# add isbn's (from isbntools library, which uses google books) to amazon data\n",
    "isbns = [isbn_from_row(current_row) for index, current_row in amazon_top_100_df.iterrows()]\n",
    "amazon_top_100_df['ISBN'] = isbns "
   ]
  },
  {
   "cell_type": "code",
   "execution_count": 3,
   "metadata": {
    "scrolled": false
   },
   "outputs": [
    {
     "name": "stdout",
     "output_type": "stream",
     "text": [
      "Index(['AMZN_RANK', 'TITLE', 'AUTHOR', 'AMZN_RATING', 'AMZN_REVIEW_COUNT',\n",
      "       'ISBN'],\n",
      "      dtype='object')\n"
     ]
    }
   ],
   "source": [
    "print(amazon_top_100_df.columns)"
   ]
  },
  {
   "cell_type": "code",
   "execution_count": 4,
   "metadata": {},
   "outputs": [],
   "source": [
    "# DONE: retrieve goodreads review data for each book  \n",
    "goodreads_reviews = [book_review_counts(current_row[\"ISBN\"]) for index, current_row in amazon_top_100_df.iterrows()]"
   ]
  },
  {
   "cell_type": "code",
   "execution_count": 5,
   "metadata": {},
   "outputs": [],
   "source": [
    "# DONE: print(goodreads_reviews)"
   ]
  },
  {
   "cell_type": "code",
   "execution_count": null,
   "metadata": {},
   "outputs": [],
   "source": [
    "# DONE: Which items to utilize, then convert to dataframe... add to dataframe: amazon_top_100_df['ISBN'] = isbns\n",
    "# DONE: Utilize average_rating and ratings count\n",
    "# Kourt: I have a list of dictionaries and the data... columns are dictionary items... turn each row into a dataframe...\n",
    "# might need a few list comprehensions\n"
   ]
  },
  {
   "cell_type": "code",
   "execution_count": null,
   "metadata": {},
   "outputs": [],
   "source": [
    "# DONE AND DELETE: Also, as much as it's good to keep the screen clean, it would be reasonable to have print(amazon_top_100_df.columns)\n",
    "# DONE AND DELETE: just before you start working with Goodreads. It is only going to print out a fairly small amount of information.\n",
    "# DONE AND DELETE: Remember that the best way to understand your code is to make small experiments"
   ]
  },
  {
   "cell_type": "code",
   "execution_count": null,
   "metadata": {},
   "outputs": [],
   "source": [
    "# TODO: Consider adding logic to compare goodreads ISBN with ISBN from ISBNtools (later effort; to confirm)"
   ]
  },
  {
   "cell_type": "code",
   "execution_count": null,
   "metadata": {},
   "outputs": [],
   "source": [
    "first_review = goodreads_reviews[0]\n",
    "# first review: {'id': 54194135, 'isbn': '1524763136', 'isbn13': '9781524763138', 'ratings_count': 1229, 'reviews_count': 2353, 'text_reviews_count': 45, 'work_ratings_count': 602457, 'work_reviews_count': 1377473, 'work_text_reviews_count': 51384, 'average_rating': '4.53'}"
   ]
  },
  {
   "cell_type": "code",
   "execution_count": null,
   "metadata": {},
   "outputs": [],
   "source": [
    "# TODO: Save finalized data to database"
   ]
  },
  {
   "cell_type": "code",
   "execution_count": null,
   "metadata": {},
   "outputs": [],
   "source": []
  }
 ],
 "metadata": {
  "kernelspec": {
   "display_name": "Python 3",
   "language": "python",
   "name": "python3"
  },
  "language_info": {
   "codemirror_mode": {
    "name": "ipython",
    "version": 3
   },
   "file_extension": ".py",
   "mimetype": "text/x-python",
   "name": "python",
   "nbconvert_exporter": "python",
   "pygments_lexer": "ipython3",
   "version": "3.6.10"
  }
 },
 "nbformat": 4,
 "nbformat_minor": 2
}
