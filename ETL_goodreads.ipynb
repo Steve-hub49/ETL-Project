{
 "cells": [
  {
   "cell_type": "code",
   "execution_count": 1,
   "metadata": {},
   "outputs": [],
   "source": [
    "from amazon import amazon_top_100_df\n",
    "from goodreads import book_review_counts    #, get_json\n",
    "from isbntools_local import isbn_from_row"
   ]
  },
  {
   "cell_type": "code",
   "execution_count": 2,
   "metadata": {
    "scrolled": true
   },
   "outputs": [],
   "source": [
    "# create a list of isbn's corresponding to each book\n",
    "isbns = [isbn_from_row(current_row) for index, current_row in amazon_top_100_df.iterrows()]\n",
    "amazon_top_100_df['ISBN'] = isbns "
   ]
  },
  {
   "cell_type": "code",
   "execution_count": null,
   "metadata": {},
   "outputs": [],
   "source": [
    "# add goodreads review data for each book... similar approach to isbn business; may want multiple columns from api\n",
    "# use book_review_counts()    def book_review_counts(isbn):     \n",
    "goodreads_reviews = [book_review_counts(current_row[\"ISBN\"]) for index, current_row in amazon_top_100_df.iterrows()]"
   ]
  },
  {
   "cell_type": "code",
   "execution_count": null,
   "metadata": {},
   "outputs": [],
   "source": [
    "first_review = goodreads_reviews[0]\n",
    "print(first_review.keys())\n",
    "print(first_review)"
   ]
  },
  {
   "cell_type": "code",
   "execution_count": null,
   "metadata": {},
   "outputs": [],
   "source": [
    "# Which items to utilize, then convert to dataframe... add to dataframe: amazon_top_100_df['ISBN'] = isbns\n",
    "#    Utilize ISBN, title, author, average_rating, ratings count\n",
    "# Kourt: I have a list of dictionaries and the data... columns are dictionary items... turn each row into a dataframe...\n",
    "# might need a few list comprehensions\n",
    "# Remember that the best way to understand your code is to make small experiments"
   ]
  },
  {
   "cell_type": "code",
   "execution_count": null,
   "metadata": {},
   "outputs": [],
   "source": [
    "# Also, as much as it's good to keep the screen clean, it would be reasonable to have print(amazon_top_100_df.columns)\n",
    "# just before you start working with Goodreads. It is only going to print out a fairly small amount of information.\n",
    "print(amazon_top_100_df.columns)"
   ]
  },
  {
   "cell_type": "code",
   "execution_count": null,
   "metadata": {},
   "outputs": [],
   "source": [
    "# Save finalized data to database"
   ]
  },
  {
   "cell_type": "code",
   "execution_count": null,
   "metadata": {},
   "outputs": [],
   "source": []
  }
 ],
 "metadata": {
  "kernelspec": {
   "display_name": "Python 3",
   "language": "python",
   "name": "python3"
  },
  "language_info": {
   "codemirror_mode": {
    "name": "ipython",
    "version": 3
   },
   "file_extension": ".py",
   "mimetype": "text/x-python",
   "name": "python",
   "nbconvert_exporter": "python",
   "pygments_lexer": "ipython3",
   "version": "3.6.10"
  }
 },
 "nbformat": 4,
 "nbformat_minor": 2
}
